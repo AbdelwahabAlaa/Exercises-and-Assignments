{
 "cells": [
  {
   "cell_type": "markdown",
   "metadata": {},
   "source": [
    "## Loading/Exploring the data\n",
    "\n",
    "Load the iris.csv file into a pandas dataframe. Take a minute to familiarize yourself with the data."
   ]
  },
  {
   "cell_type": "markdown",
   "metadata": {},
   "source": [
    "## Import Pandas\n",
    "\n",
    "Import the `pandas` library as `pd`"
   ]
  },
  {
   "cell_type": "code",
   "execution_count": 12,
   "metadata": {},
   "outputs": [],
   "source": [
    "import pandas as pd"
   ]
  },
  {
   "cell_type": "markdown",
   "metadata": {},
   "source": [
    "Read the `iris.csv` dataset into an object named `iris`"
   ]
  },
  {
   "cell_type": "code",
   "execution_count": 13,
   "metadata": {},
   "outputs": [],
   "source": [
    "iris = pd.read_csv('iris.csv')"
   ]
  },
  {
   "cell_type": "markdown",
   "metadata": {},
   "source": [
    "How many different species are in this dataset?"
   ]
  },
  {
   "cell_type": "code",
   "execution_count": 16,
   "metadata": {},
   "outputs": [
    {
     "name": "stdout",
     "output_type": "stream",
     "text": [
      "3\n"
     ]
    }
   ],
   "source": [
    "different_species_count = iris['species'].nunique()\n",
    "print(different_species_count)"
   ]
  },
  {
   "cell_type": "markdown",
   "metadata": {},
   "source": [
    "What are their names?"
   ]
  },
  {
   "cell_type": "code",
   "execution_count": 18,
   "metadata": {},
   "outputs": [
    {
     "name": "stdout",
     "output_type": "stream",
     "text": [
      "['setosa' 'versicolor' 'virginica']\n"
     ]
    }
   ],
   "source": [
    "species_names = iris['species'].unique()\n",
    "print(species_names)"
   ]
  },
  {
   "cell_type": "markdown",
   "metadata": {},
   "source": [
    "How many samples are there per species?\n",
    "\n",
    "<details><summary>Hint</summary>Use the <a href=\"http://pandas.pydata.org/pandas-docs/stable/generated/pandas.Series.value_counts.html\"><code>.value_counts()</code></a> method</details>"
   ]
  },
  {
   "cell_type": "code",
   "execution_count": 20,
   "metadata": {},
   "outputs": [
    {
     "name": "stdout",
     "output_type": "stream",
     "text": [
      "species\n",
      "setosa        50\n",
      "versicolor    50\n",
      "virginica     50\n",
      "Name: count, dtype: int64\n"
     ]
    }
   ],
   "source": [
    "no_samples_species = iris['species'].value_counts()\n",
    "print(no_samples_species)"
   ]
  },
  {
   "cell_type": "markdown",
   "metadata": {},
   "source": [
    "## Feature Engineering\n",
    "\n",
    "Create a new column called `'sepal_ratio'` which is equal to sepal width / sepal length"
   ]
  },
  {
   "cell_type": "code",
   "execution_count": 23,
   "metadata": {},
   "outputs": [
    {
     "name": "stdout",
     "output_type": "stream",
     "text": [
      "   sepal length (cm)  sepal width (cm)  petal length (cm)  petal width (cm)  \\\n",
      "0                5.1               3.5                1.4               0.2   \n",
      "1                4.9               3.0                1.4               0.2   \n",
      "2                4.7               3.2                1.3               0.2   \n",
      "3                4.6               3.1                1.5               0.2   \n",
      "4                5.0               3.6                1.4               0.2   \n",
      "\n",
      "  species  sepal_ratio  \n",
      "0  setosa     0.686275  \n",
      "1  setosa     0.612245  \n",
      "2  setosa     0.680851  \n",
      "3  setosa     0.673913  \n",
      "4  setosa     0.720000  \n"
     ]
    }
   ],
   "source": [
    "iris['sepal_ratio'] = iris['sepal width (cm)'] / iris['sepal length (cm)']\n",
    "print(iris.head())"
   ]
  },
  {
   "cell_type": "markdown",
   "metadata": {},
   "source": [
    "Create a similar column called `'petal_ratio'`: petal width / petal length"
   ]
  },
  {
   "cell_type": "code",
   "execution_count": 24,
   "metadata": {},
   "outputs": [
    {
     "name": "stdout",
     "output_type": "stream",
     "text": [
      "   sepal length (cm)  sepal width (cm)  petal length (cm)  petal width (cm)  \\\n",
      "0                5.1               3.5                1.4               0.2   \n",
      "1                4.9               3.0                1.4               0.2   \n",
      "2                4.7               3.2                1.3               0.2   \n",
      "3                4.6               3.1                1.5               0.2   \n",
      "4                5.0               3.6                1.4               0.2   \n",
      "\n",
      "  species  sepal_ratio  petal_ratio  \n",
      "0  setosa     0.686275     0.039216  \n",
      "1  setosa     0.612245     0.040816  \n",
      "2  setosa     0.680851     0.042553  \n",
      "3  setosa     0.673913     0.043478  \n",
      "4  setosa     0.720000     0.040000  \n"
     ]
    }
   ],
   "source": [
    "iris['petal_ratio'] = iris['petal width (cm)'] / iris['sepal length (cm)']\n",
    "print(iris.head())"
   ]
  },
  {
   "cell_type": "markdown",
   "metadata": {},
   "source": [
    "Create 4 columns that correspond to `sepal length (cm)`, `sepal width (cm)`, `petal length (cm)`, and `petal width (cm)`, only in inches."
   ]
  },
  {
   "cell_type": "code",
   "execution_count": 28,
   "metadata": {},
   "outputs": [
    {
     "name": "stdout",
     "output_type": "stream",
     "text": [
      "   sepal length (cm)  sepal width (cm)  petal length (cm)  petal width (cm)  \\\n",
      "0                5.1               3.5                1.4               0.2   \n",
      "1                4.9               3.0                1.4               0.2   \n",
      "2                4.7               3.2                1.3               0.2   \n",
      "3                4.6               3.1                1.5               0.2   \n",
      "4                5.0               3.6                1.4               0.2   \n",
      "\n",
      "  species  sepal_ratio  petal_ratio  sepal length (in)  sepal width (in)  \\\n",
      "0  setosa     0.686275     0.039216           2.007874          1.377953   \n",
      "1  setosa     0.612245     0.040816           1.929134          1.181102   \n",
      "2  setosa     0.680851     0.042553           1.850394          1.259843   \n",
      "3  setosa     0.673913     0.043478           1.811024          1.220472   \n",
      "4  setosa     0.720000     0.040000           1.968504          1.417323   \n",
      "\n",
      "   petal length (in)  petal width (in)  \n",
      "0           0.551181           0.07874  \n",
      "1           0.551181           0.07874  \n",
      "2           0.511811           0.07874  \n",
      "3           0.590551           0.07874  \n",
      "4           0.551181           0.07874  \n"
     ]
    }
   ],
   "source": [
    "# To convert from (cm) to (in) we divide by 2.54\n",
    "iris['sepal length (in)'] = iris['sepal length (cm)'] / 2.54\n",
    "iris['sepal width (in)'] = iris['sepal width (cm)'] / 2.54\n",
    "iris['petal length (in)'] = iris['petal length (cm)'] / 2.54\n",
    "iris['petal width (in)'] = iris['petal width (cm)'] / 2.54\n",
    "print(iris.head())"
   ]
  },
  {
   "cell_type": "markdown",
   "metadata": {},
   "source": [
    "## Apply\n",
    "\n",
    "Create a column called `'encoded_species'`:\n",
    "- 0 for setosa\n",
    "- 1 for versicolor\n",
    "- 2 for virginica\n",
    "\n",
    "\n",
    "Hint 1\n",
    "Create a dictionary using the species as keys and the numbers 0-2 for values\n",
    "\n",
    "\n",
    "Hint 2\n",
    "    Use the dictionary in hint 1 with the <code>.apply()</code> method to create the new column\n"
   ]
  },
  {
   "cell_type": "code",
   "execution_count": 35,
   "metadata": {},
   "outputs": [
    {
     "name": "stdout",
     "output_type": "stream",
     "text": [
      "0      0\n",
      "1      0\n",
      "2      0\n",
      "3      0\n",
      "4      0\n",
      "      ..\n",
      "145    2\n",
      "146    2\n",
      "147    2\n",
      "148    2\n",
      "149    2\n",
      "Name: encode_species, Length: 150, dtype: int64\n"
     ]
    }
   ],
   "source": [
    "species_dictionary = {'setosa' : 0 , 'versicolor' : 1 , 'virginica' : 2}\n",
    "iris['encode_species'] = iris['species'].apply(lambda x: species_dictionary[x])\n",
    "print(iris['encode_species'])"
   ]
  },
  {
   "cell_type": "markdown",
   "metadata": {},
   "source": [
    "## March Madness\n",
    "\n",
    "Let's change up the dataset to something different than flowers: March Madness!\n",
    "\n",
    "Read in the dataset `ncaa-seeds.csv` to an object named `seeds`.\n",
    "\n",
    "This dataframe simulates the games that will occur in the first round of the [NCAA basketball tournament](http://www.sportingnews.com/au/ncaa-basketball/news/ncaa-tournament-2017-march-madness-bracket-schedule-matchups-print-a-bracket/1r6cau9sb1xj4131zzhay2dj5g). In the first row, you should see the following:\n",
    "\n",
    "| team_seed | opponent_seed |\n",
    "|-----------|---------------|\n",
    "| 01N       | 16N           |"
   ]
  },
  {
   "cell_type": "code",
   "execution_count": 44,
   "metadata": {},
   "outputs": [],
   "source": [
    "seeds = pd.read_csv('ncaa-seeds.csv')"
   ]
  },
  {
   "cell_type": "markdown",
   "metadata": {},
   "source": [
    "For team_seed, the 01 is their seed, and N is their division (North). This row is saying the 1st seed in the north division will play the 16th seed (same division).\n",
    "\n",
    "Using the `.apply()` method, create the following new columns:\n",
    "- `team_division`\n",
    "- `opponent_division`\n",
    "\n",
    "The first row of your result should look as follows:\n",
    "\n",
    "| team_seed | opponent_seed | team_division | opponent_division |\n",
    "|-----------|---------------|---------------|-------------------|\n",
    "| 01N       | 16N           | N             | N                 |\n"
   ]
  },
  {
   "cell_type": "code",
   "execution_count": 45,
   "metadata": {},
   "outputs": [
    {
     "name": "stdout",
     "output_type": "stream",
     "text": [
      "  team_seed opponent_seed team_division opponent_division\n",
      "0       01N           16N             N                 N\n"
     ]
    }
   ],
   "source": [
    "seeds['team_division'] = seeds['team_seed'].apply(lambda x: x[-1])\n",
    "seeds['opponent_division'] = seeds['opponent_seed'].apply(lambda x: x[-1])\n",
    "print(seeds.head(1))"
   ]
  },
  {
   "cell_type": "markdown",
   "metadata": {},
   "source": [
    "Now that you have the divisions, change the `team_seed` and `opponent_seed` columns to just be the numbers.\n",
    "\n",
    "The first row of your result should look as follows:\n",
    "\n",
    "| team_seed | opponent_seed | team_division | opponent_division |\n",
    "|-----------|---------------|---------------|-------------------|\n",
    "| 1         | 16            | N             | N                 |"
   ]
  },
  {
   "cell_type": "code",
   "execution_count": 46,
   "metadata": {},
   "outputs": [
    {
     "name": "stdout",
     "output_type": "stream",
     "text": [
      "   team_seed  opponent_seed team_division opponent_division\n",
      "0          1             16             N                 N\n"
     ]
    }
   ],
   "source": [
    "seeds['team_seed'] = seeds['team_seed'].apply(lambda x: int(x[:-1]))\n",
    "seeds['opponent_seed'] = seeds['opponent_seed'].apply(lambda x: int(x[:-1]))\n",
    "print(seeds.head(1))"
   ]
  },
  {
   "cell_type": "markdown",
   "metadata": {},
   "source": [
    "Create a new column called seed_delta, which is the difference between the team's seed and their opponent's. \n",
    "\n",
    "The first row of your result should look as follows:\n",
    "\n",
    "| team_seed | opponent_seed | team_division | opponent_division | seed_delta |\n",
    "|-----------|---------------|---------------|-------------------|------------|\n",
    "| 1         | 16            | N             | N                 | -15        |\n",
    "\n",
    "<br>\n",
    "<details><summary>Did you get an error?</summary>\n",
    "team_seed and opponent_seed need to be numerical columns in order for you to perform mathematical operations on them.\n",
    "</details>"
   ]
  },
  {
   "cell_type": "code",
   "execution_count": 48,
   "metadata": {},
   "outputs": [
    {
     "name": "stdout",
     "output_type": "stream",
     "text": [
      "    team_seed  opponent_seed team_division opponent_division  seed_delta\n",
      "0           1             16             N                 N         -15\n",
      "1           2             15             N                 N         -13\n",
      "2           3             14             N                 N         -11\n",
      "3           4             13             N                 N          -9\n",
      "4           5             12             N                 N          -7\n",
      "5           6             11             N                 N          -5\n",
      "6           7             10             N                 N          -3\n",
      "7           8              9             N                 N          -1\n",
      "8           1             16             S                 S         -15\n",
      "9           2             15             S                 S         -13\n",
      "10          3             14             S                 S         -11\n",
      "11          4             13             S                 S          -9\n",
      "12          5             12             S                 S          -7\n",
      "13          6             11             S                 S          -5\n",
      "14          7             10             S                 S          -3\n",
      "15          8              9             S                 S          -1\n",
      "16          1             16             E                 E         -15\n",
      "17          2             15             E                 E         -13\n",
      "18          3             14             E                 E         -11\n",
      "19          4             13             E                 E          -9\n",
      "20          5             12             E                 E          -7\n",
      "21          6             11             E                 E          -5\n",
      "22          7             10             E                 E          -3\n",
      "23          8              9             E                 E          -1\n",
      "24          1             16             W                 W         -15\n",
      "25          2             15             W                 W         -13\n",
      "26          3             14             W                 W         -11\n",
      "27          4             13             W                 W          -9\n",
      "28          5             12             W                 W          -7\n",
      "29          6             11             W                 W          -5\n",
      "30          7             10             W                 W          -3\n",
      "31          8              9             W                 W          -1\n"
     ]
    }
   ],
   "source": [
    "seeds['seed_delta'] = seeds['team_seed'] - seeds['opponent_seed']\n",
    "print(seeds)"
   ]
  }
 ],
 "metadata": {
  "anaconda-cloud": {},
  "kernelspec": {
   "display_name": "Python 3 (ipykernel)",
   "language": "python",
   "name": "python3"
  },
  "language_info": {
   "codemirror_mode": {
    "name": "ipython",
    "version": 3
   },
   "file_extension": ".py",
   "mimetype": "text/x-python",
   "name": "python",
   "nbconvert_exporter": "python",
   "pygments_lexer": "ipython3",
   "version": "3.12.7"
  }
 },
 "nbformat": 4,
 "nbformat_minor": 4
}
